{
 "cells": [
  {
   "cell_type": "code",
   "execution_count": 44,
   "metadata": {},
   "outputs": [],
   "source": [
    "import requests as rq\n",
    "import json\n",
    "#修改menu\n",
    "s = rq.get(\"https://api.weixin.qq.com/cgi-bin/token?grant_type=client_credential&appid=wx1f2c3788f6b841b3&secret=b2aafeb061b1a835cea516899ebcbb8c\")\n",
    "token = json.loads(s.text)[\"access_token\"]\n",
    "s = rq.get(f\"https://api.weixin.qq.com/cgi-bin/menu/delete?access_token={token}\")\n"
   ]
  },
  {
   "cell_type": "code",
   "execution_count": 46,
   "metadata": {},
   "outputs": [
    {
     "name": "stdout",
     "output_type": "stream",
     "text": [
      "{'button': [{'type': 'view', 'name': '实验', 'url': 'https://open.weixin.qq.com/connect/oauth2/authorize?appid=wx6742e22952f55f43&redirect_uri=http://psi.longmentcm.com/login&response_type=code&scope=snsapi_base&state=1#wechat_redirect'}, {'name': '文章', 'sub_button': [{'type': 'view', 'name': '研究概况', 'url': 'https://zhuanlan.zhihu.com/p/103858679'}, {'type': 'view', 'name': '意念力实验', 'url': 'https://zhuanlan.zhihu.com/p/102945948?from_voters_page=true'}, {'type': 'view', 'name': '心灵感应', 'url': 'https://zhuanlan.zhihu.com/p/99247666'}]}]}\n"
     ]
    },
    {
     "data": {
      "text/plain": [
       "'{\"errcode\":0,\"errmsg\":\"ok\"}'"
      ]
     },
     "execution_count": 46,
     "metadata": {},
     "output_type": "execute_result"
    }
   ],
   "source": [
    "new_menu ={\n",
    "    \"button\": [\n",
    "        {\n",
    "            \"type\": \"view\", \n",
    "            \"name\": \"实验\", \n",
    "            \"url\": \"https://open.weixin.qq.com/connect/oauth2/authorize?appid=wx6742e22952f55f43&redirect_uri=http://psi.longmentcm.com/login&response_type=code&scope=snsapi_base&state=1#wechat_redirect\"\n",
    "        }, \n",
    "        {\n",
    "            \"name\": \"文章\", \n",
    "            \"sub_button\": [\n",
    "                {\n",
    "                    \"type\": \"view\", \n",
    "                    \"name\": \"研究概况\", \n",
    "                    \"url\": \"https://zhuanlan.zhihu.com/p/103858679\"\n",
    "                }, \n",
    "                {\n",
    "                    \"type\": \"view\", \n",
    "                    \"name\": \"意念力实验\", \n",
    "                    \"url\": \"https://zhuanlan.zhihu.com/p/102945948?from_voters_page=true\"\n",
    "                }, \n",
    "                {\n",
    "                    \"type\": \"view\", \n",
    "                    \"name\": \"心灵感应\", \n",
    "                    \"url\": \"https://zhuanlan.zhihu.com/p/99247666\"\n",
    "                }\n",
    "            ]\n",
    "        }\n",
    "    ]\n",
    "}\n",
    "print(new_menu)\n",
    "s = rq.post(f\"https://api.weixin.qq.com/cgi-bin/menu/create?access_token={token}\", data=json.dumps(new_menu, ensure_ascii=False).encode('utf-8'))\n",
    "s.text"
   ]
  },
  {
   "cell_type": "code",
   "execution_count": 43,
   "metadata": {},
   "outputs": [
    {
     "name": "stdout",
     "output_type": "stream",
     "text": [
      "{'button': [{'type': 'view', 'name': 'test', 'url': 'https://open.weixin.qq.com/connect/oauth2/authorize?appid=wx6742e22952f55f43&redirect_uri=http://psi.longmentcm.com/login&response_type=code&scope=snsapi_base&state=1#wechat_redirect'}]}\n"
     ]
    },
    {
     "data": {
      "text/plain": [
       "'{\"errcode\":0,\"errmsg\":\"ok\"}'"
      ]
     },
     "execution_count": 43,
     "metadata": {},
     "output_type": "execute_result"
    }
   ],
   "source": [
    "new_menu = {\n",
    "    \"button\": [\n",
    "        {\n",
    "            \"type\": \"view\", \n",
    "            \"name\": \"test\", \n",
    "            \"url\": \"https://open.weixin.qq.com/connect/oauth2/authorize?appid=wx6742e22952f55f43&redirect_uri=http://psi.longmentcm.com/login&response_type=code&scope=snsapi_base&state=1#wechat_redirect\"\n",
    "        }\n",
    "    ]\n",
    "}\n",
    "print(new_menu)\n",
    "s = rq.post(f\"https://api.weixin.qq.com/cgi-bin/menu/create?access_token={token}\", data=json.dumps(new_menu))\n",
    "s.text"
   ]
  }
 ],
 "metadata": {
  "kernelspec": {
   "display_name": "Python 3",
   "language": "python",
   "name": "python3"
  },
  "language_info": {
   "codemirror_mode": {
    "name": "ipython",
    "version": 3
   },
   "file_extension": ".py",
   "mimetype": "text/x-python",
   "name": "python",
   "nbconvert_exporter": "python",
   "pygments_lexer": "ipython3",
   "version": "3.6.9"
  }
 },
 "nbformat": 4,
 "nbformat_minor": 4
}
